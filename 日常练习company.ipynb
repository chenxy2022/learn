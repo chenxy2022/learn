{
 "cells": [
  {
   "cell_type": "markdown",
   "metadata": {},
   "source": [
    "#### 开头"
   ]
  },
  {
   "cell_type": "code",
   "execution_count": null,
   "metadata": {},
   "outputs": [],
   "source": [
    "import pandas as pd\n",
    "import xlwings as xw\n",
    "import numpy as np\n",
    "from IPython.core.interactiveshell import InteractiveShell\n",
    "InteractiveShell.ast_node_interactivity = \"all\"\n"
   ]
  },
  {
   "cell_type": "markdown",
   "metadata": {},
   "source": [
    "#### 小知识"
   ]
  },
  {
   "cell_type": "markdown",
   "metadata": {},
   "source": [
    "> 进度条  \n",
    "\n",
    "> 主线程通过queue推送数据，进度条通过获取总数量和主线程que数据计算进度"
   ]
  },
  {
   "cell_type": "code",
   "execution_count": null,
   "metadata": {},
   "outputs": [],
   "source": [
    "from tqdm import tqdm\n",
    "from time import sleep\n",
    "from multiprocessing.dummy import Process\n",
    "from queue import Queue\n",
    "\n",
    "\n",
    "def f(x):\n",
    "    for eh in x:\n",
    "        que.put(eh)  # 处理完一个结果后，放到queue中\n",
    "        sleep(1)\n",
    "\n",
    "def jdt(mylist):\n",
    "    for _ in (bar := tqdm(mylist)):\n",
    "        while que.empty():\n",
    "            sleep(.1)\n",
    "        bar.set_description(f'正在处理 {que.get()}')\n",
    "\n",
    "que = Queue()\n",
    "mylist = list('12345678')\n",
    "t = Process(target=jdt, args=(mylist,))\n",
    "t.start()\n",
    "f(mylist)\n",
    "t.join()\n"
   ]
  },
  {
   "cell_type": "markdown",
   "metadata": {},
   "source": [
    "> 处理pandas的apply数据加个进度条"
   ]
  },
  {
   "cell_type": "code",
   "execution_count": null,
   "metadata": {},
   "outputs": [],
   "source": [
    "import pandas as pd\n",
    "import numpy as np\n",
    "from tqdm import tqdm\n",
    "\n",
    "df = pd.DataFrame(np.random.randint(0, 100, (10000000, 100)))\n",
    "tqdm.pandas(desc=\"my bar！\")\n",
    "df.progress_apply(lambda x:x*3,) # 替换apply"
   ]
  },
  {
   "cell_type": "markdown",
   "metadata": {},
   "source": [
    "> 自定义季度"
   ]
  },
  {
   "cell_type": "code",
   "execution_count": null,
   "metadata": {},
   "outputs": [],
   "source": [
    "pd.Period('2022-11-30', freq='Q-Nov').quarter\n",
    "pd.Period('2022-12-1', freq='Q-Nov').quarter\n",
    "pd.Period('2022-2-28', freq='Q-Nov').quarter\n",
    "pd.Period('2022-3-3', freq='Q-Nov').quarter\n"
   ]
  },
  {
   "cell_type": "markdown",
   "metadata": {},
   "source": [
    "> 持续读取文本内容，适合于类似日志不断增加的情况"
   ]
  },
  {
   "cell_type": "code",
   "execution_count": null,
   "metadata": {},
   "outputs": [],
   "source": [
    "import time\n",
    "\n",
    "\n",
    "def rdtxt_conti(filename):\n",
    "    with open(filename, 'r') as f:\n",
    "        yield from f.readlines()\n",
    "        f.seek(0, 2)\n",
    "        while 1:\n",
    "            if (txt := f.readline()):\n",
    "                yield txt\n",
    "            else:\n",
    "                time.sleep(4)\n",
    "\n",
    "\n",
    "if __name__ == '__main__':\n",
    "    '''持续读取文本内容，适合于类似日志不断增加的情况'''\n",
    "    for x in rdtxt_conti('test.txt'):\n",
    "        print(x)\n"
   ]
  },
  {
   "cell_type": "markdown",
   "metadata": {},
   "source": [
    "> 字段名重名的自动扩展，wide to long"
   ]
  },
  {
   "cell_type": "code",
   "execution_count": null,
   "metadata": {},
   "outputs": [],
   "source": [
    "def first_w_l(df, col_n_list: list = None):\n",
    "    '''\n",
    "    字段名重名的自动扩展，wide to long\n",
    "    默认按照第一列为扩展依据。\n",
    "    如果有多列，按照列的顺序组成列表作为第二参数传递，比如col_n_list=[0,1]\n",
    "    '''\n",
    "    if col_n_list is None:\n",
    "        col_n_list = [0]\n",
    "    i = df.columns[col_n_list].tolist()\n",
    "    df = df.set_index(i)\n",
    "    stubnames = df.filter(regex=r'^[^.]+$').columns\n",
    "    repdic = {x: f'{x}.0' for x in stubnames}\n",
    "    df = df.reset_index().rename(columns=repdic)\n",
    "    return (pd.wide_to_long(df, stubnames=stubnames, i=i, j='n', sep='.')\n",
    "            .sort_index(level=-1)\n",
    "            .droplevel(-1))\n",
    "\n",
    "\n",
    "df = pd.read_excel('test.xlsx')\n",
    "df\n",
    "first_w_l(df, [0, 1])\n"
   ]
  },
  {
   "cell_type": "markdown",
   "metadata": {},
   "source": [
    "> 时间格式"
   ]
  },
  {
   "cell_type": "code",
   "execution_count": null,
   "metadata": {},
   "outputs": [],
   "source": [
    "import time\n",
    "time.strftime('%F %T')\n",
    "'''\n",
    "%a 星期几的简写\n",
    "%A 星期几的全称\n",
    "%b 月分的简写\n",
    "%B 月份的全称\n",
    "%c 标准的日期的时间串\n",
    "%C 年份的后两位数字\n",
    "%d 十进制表示的每月的第几天\n",
    "%D 月/天/年\n",
    "%e 在两字符域中，十进制表示的每月的第几天\n",
    "%F 年-月-日\n",
    "%g 年份的后两位数字，使用基于周的年\n",
    "%G 年分，使用基于周的年\n",
    "%h 简写的月份名\n",
    "%H 24小时制的小时\n",
    "%I 12小时制的小时\n",
    "%j 十进制表示的每年的第几天\n",
    "%m 十进制表示的月份\n",
    "%M 十时制表示的分钟数\n",
    "%n 新行符\n",
    "%p 本地的AM或PM的等价显示\n",
    "%r 12小时的时间\n",
    "%R 显示小时和分钟：hh:mm\n",
    "%S 十进制的秒数\n",
    "%t 水平制表符\n",
    "%T 显示时分秒：hh:mm:ss\n",
    "%u 每周的第几天，星期一为第一天 （值从0到6，星期一为0）\n",
    "%U 第年的第几周，把星期日做为第一天（值从0到53）\n",
    "%V 每年的第几周，使用基于周的年\n",
    "%w 十进制表示的星期几（值从0到6，星期天为0）\n",
    "%W 每年的第几周，把星期一做为第一天（值从0到53）\n",
    "%x 标准的日期串\n",
    "%X 标准的时间串\n",
    "%y 不带世纪的十进制年份（值从0到99）\n",
    "%Y 带世纪部分的十进制年份\n",
    "%z %Z 时区名称，如果不能得到时区名称则返回空字符。\n",
    "%% 百分号'''\n"
   ]
  },
  {
   "cell_type": "markdown",
   "metadata": {},
   "source": [
    "> 上下文管理器"
   ]
  },
  {
   "cell_type": "code",
   "execution_count": null,
   "metadata": {},
   "outputs": [],
   "source": [
    "from contextlib import contextmanager\n",
    "import time\n",
    "\n",
    "\n",
    "def myfp(x):\n",
    "    print(x)\n",
    "    time.sleep(1)\n",
    "\n",
    "\n",
    "@contextmanager\n",
    "def withf():\n",
    "    st = time.perf_counter()\n",
    "    print('first')\n",
    "    yield myfp\n",
    "    print('used_time:', time.perf_counter()-st)\n",
    "\n",
    "\n",
    "with withf() as k:\n",
    "    k('aab')\n"
   ]
  },
  {
   "cell_type": "markdown",
   "metadata": {},
   "source": [
    "如果一个对象没有实现上下文，我们就不能把它用于with语句。这个时候，可以用closing()来把该对象变为上下文对象。例如，用with语句使用urlopen()："
   ]
  },
  {
   "cell_type": "code",
   "execution_count": null,
   "metadata": {},
   "outputs": [],
   "source": [
    "from contextlib import closing\n",
    "from urllib.request import urlopen\n",
    "\n",
    "with closing(urlopen('https://www.python.org')) as page:\n",
    "    for line in page:\n",
    "        print(line)\n"
   ]
  },
  {
   "cell_type": "markdown",
   "metadata": {},
   "source": [
    "> 一维转二维"
   ]
  },
  {
   "cell_type": "code",
   "execution_count": null,
   "metadata": {},
   "outputs": [],
   "source": [
    "n = 3\n",
    "se = pd.Series([1, 2, 3, 4, 5, 6, 7])\n",
    "se = pd.Series([1, 2, 3, 4, 5, 6, 7]*100000)\n",
    "(se.reset_index(drop=True)\n",
    "    .to_frame()\n",
    "    .set_axis(tuple(zip(se.index//n, se.index % n)))\n",
    "    .unstack(1,)\n",
    "    .droplevel(0, axis=1)\n",
    " )\n"
   ]
  },
  {
   "cell_type": "code",
   "execution_count": null,
   "metadata": {},
   "outputs": [],
   "source": [
    "se = pd.Series([1, 2, 3, 4, 5, 6, 7, 8, 9, 10])\n",
    "se = pd.Series([1, 2, 3, 4, 5, 6, 7]*100000)\n",
    "n = 3\n",
    "se = np.concatenate([se.values, np.repeat([np.nan], n)])\n",
    "pd.DataFrame(se[:len(se)//n*n].reshape((len(se)//n, -1))).dropna(how='all')\n"
   ]
  },
  {
   "cell_type": "code",
   "execution_count": null,
   "metadata": {},
   "outputs": [],
   "source": [
    "se = pd.Series([1, 2, 3, 4, 5, 6, 7])\n",
    "se = pd.Series([1, 2, 3, 4, 5, 6, 7]*100000)\n",
    "se.groupby(se.index//3).agg(list).apply(pd.Series)\n",
    "'''效率比较低,不推荐'''\n"
   ]
  },
  {
   "cell_type": "markdown",
   "metadata": {},
   "source": [
    "> os.walk获取全文件名"
   ]
  },
  {
   "cell_type": "code",
   "execution_count": null,
   "metadata": {},
   "outputs": [],
   "source": [
    "import os\n",
    "mypath = r'D:\\netdisk\\learn\\Python'\n",
    "# for  root,dir,files in os.walk(mypath):\n",
    "#     for ehname in files:\n",
    "#         print(os.path.join(root,ehname))\n",
    "\n",
    "filelist = [os.path.join(root, ehname) for root, _, files in os.walk(mypath)\n",
    "            for ehname in files if ehname.endswith('.py')]\n",
    "# xw.view(pd.DataFrame(filelist,columns=['文件名']))\n",
    "'''如果获取目录下文文件，只要用os.listdir()'''\n",
    "[os.path.join(mypath, x) for x in os.listdir(mypath)]\n"
   ]
  },
  {
   "cell_type": "markdown",
   "metadata": {},
   "source": [
    "> 定位1-2之间的索引,定位begin和end之间的数据   \n",
    "> 学习 pd.merge_asof，类似match的匹配模式"
   ]
  },
  {
   "cell_type": "code",
   "execution_count": null,
   "metadata": {},
   "outputs": [],
   "source": [
    "'''定位1-2之间的索引,定位begin和end之间的数据'''\n",
    "df = pd.DataFrame(\n",
    "    {'a': [0, 1, 2, 0, 1, 0, 0, 2, 0, 1, 0, 0, 2, 0, 1]}).reset_index()\n",
    "df = pd.DataFrame(\n",
    "    {'a': [2, 1, 1, 2, 1, 1, 10, 0, 2, 0, 1, 0, 1, 2, 2, 2]}).reset_index()\n",
    "\n",
    "ind = (pd.merge_asof(\n",
    "    df.query('a==1').rename(columns={'index': 'begin'}),\n",
    "    df.query('a==2').rename(columns={'index': 'end'}),\n",
    "    left_on='begin', right_on='end',\n",
    "    direction='forward',)\n",
    "    .dropna().astype(int)[['begin', 'end']]\n",
    "    # 控制组范围，比如：1102，last为102、first为1102\n",
    "    .drop_duplicates(subset='end', keep='last')\n",
    "    .apply(lambda x: list(range(x[0], x[1]+1)), axis=1)\n",
    "    .sum()\n",
    ")\n",
    "ind\n",
    "df['r'] = df['a'].mask(df.index.isin(ind), 9)\n",
    "# df.iloc[ind,-1]=9\n",
    "df\n"
   ]
  },
  {
   "cell_type": "code",
   "execution_count": null,
   "metadata": {},
   "outputs": [],
   "source": [
    "df = pd.DataFrame({'a': [2, 1, 1, 2, 1, 1, 10, 0, 2, 0, 1, 0, 1, 2, 2, 2]})\n",
    "g1 = df['a'].eq(1).cumsum()\n",
    "g2 = df['a'].eq(2)[::-1].cumsum()\n",
    "m = df.groupby([g1, g2])['a'].transform(\n",
    "    lambda g: g.iloc[0] == 1 and g.iloc[-1] == 2)\n",
    "df['desired'] = pd.Series(9, index=m.index).mask(~m, df['a'])\n",
    "df.assign(g1=g1, g2=g2, m=m)\n"
   ]
  },
  {
   "cell_type": "markdown",
   "metadata": {},
   "source": [
    "> 获取网页最新汇率"
   ]
  },
  {
   "cell_type": "code",
   "execution_count": null,
   "metadata": {},
   "outputs": [],
   "source": [
    "url = 'https://fx.cmbchina.com/hq/'  # 网站名\n",
    "df = pd.read_html(url, encoding='utf-8', match=r'交易币',\n",
    "                  header=0, index_col='交易币')[0]\n",
    "df\n"
   ]
  },
  {
   "cell_type": "markdown",
   "metadata": {},
   "source": [
    "> str.translate  单字符映射表"
   ]
  },
  {
   "cell_type": "code",
   "execution_count": null,
   "metadata": {},
   "outputs": [],
   "source": [
    "transtable = str.maketrans('abc', '123')\n",
    "'abcdefacdb'.translate(transtable)\n",
    "bytes_tabtrans = bytes.maketrans(\n",
    "    b'abcdefghijklmnopqrstuvwxyz', b'ABCDEFGHIJKLMNOPQRSTUVWXYZ')\n",
    "b'runoob'.translate(bytes_tabtrans, b'o')\n"
   ]
  },
  {
   "cell_type": "markdown",
   "metadata": {},
   "source": [
    "> filter 连顺序都排列好了，比reindex好用"
   ]
  },
  {
   "cell_type": "code",
   "execution_count": null,
   "metadata": {},
   "outputs": [],
   "source": [
    "df = pd.DataFrame({'a': [1, 2, 3], 'b': [3, 4, 5]})\n",
    "df\n",
    "# df.reindex(['a','c'],axis=1).dropna(how='all',axis=1)\n",
    "df.filter(['c', 'b', 'a'])\n"
   ]
  },
  {
   "cell_type": "markdown",
   "metadata": {},
   "source": [
    "> 字典推导式\n"
   ]
  },
  {
   "cell_type": "code",
   "execution_count": null,
   "metadata": {},
   "outputs": [],
   "source": [
    "in_list = [1, 2, 3, 4, 5, 6, 7, 8, 9, 9, 8, 7]\n",
    "print('array before:', in_list)\n",
    "array = {i: i * 2 for i in in_list if i % 2 != 0}  # 字典推导表达式\n",
    "print('array after:', array)\n"
   ]
  },
  {
   "cell_type": "markdown",
   "metadata": {},
   "source": [
    "> 百家姓 正则"
   ]
  },
  {
   "cell_type": "code",
   "execution_count": null,
   "metadata": {},
   "outputs": [],
   "source": [
    "import re\n",
    "s = '张三 zxcxzcxzcxz 李四 出自行车正常 周杰伦 沈腾'\n",
    "xin1 = '[王李张刘陈杨黄赵吴周徐孙马朱胡郭何高林罗郑梁谢宋唐许韩冯邓曹彭曾肖田董袁潘于蒋蔡余杜叶程苏魏吕丁任沈姚卢姜崔钟谭陆汪范金石廖贾夏韦傅方白邹孟熊秦邱江尹薛闫段雷侯龙史黎贺顾毛郝龚邵万钱覃武戴孔汤庞樊兰殷施陶洪翟安颜倪严牛温芦季俞章鲁葛伍申尤毕聂柴焦向柳邢岳齐沿梅莫庄辛管祝左涂谷祁时舒耿牟卜路詹关苗凌费纪靳盛童欧甄项曲成游阳裴席卫查屈鲍位覃霍翁隋植甘景薄单包司柏宁柯阮桂闵阳解强丛华车冉房边辜吉饶刁瞿戚丘古米池滕晋苑邬臧畅宫来嵺苟全褚廉简娄盖符奚木穆党燕郎邸冀谈姬屠连郜晏栾郁商蒙计喻揭窦迟宇敖糜鄢冷卓花艾蓝都巩稽井练仲乐虞卞封竺冼原官衣楚佟栗匡宗应台巫鞠僧桑荆谌银扬明沙薄伏岑习胥保和蔺水云昌凤酆常皮康元平萧湛禹无贝茅麻危骆支咎经裘缪干宣贲杭诸钮嵇滑荣荀羊於惠家芮羿储汲邴松富乌巴弓牧隗山宓蓬郗班仰秋伊仇暴钭厉戎祖束幸韶蓟印宿怀蒲鄂索咸籍赖乔阴能苍双闻莘贡逢扶堵宰郦雍却璩濮寿通扈郏浦尚农别阎充慕茹宦鱼容易慎戈庚终暨居衡步满弘国文寇广禄阙东殴殳沃利蔚越夔隆师厍晃勾融訾阚那空毋乜养须丰巢蒯相后红逯益桓公俟马官侯葛人方连甫迟羊台冶政阳于于叔屠孙孙辕狐离文孙容于丘徒空官寇仉督车孙木马西雕正驷良跋谷父粱法汝钦干里郭门延海舌生帅缑亢况郈琴丘丘门门佘佴伯赏宫墨哈谯笪年爱仝代]'\n",
    "xin2 = '欧阳|权逯|盖益|万俟|司马|上官|夏侯|诸葛|闻人|东方|赫连|皇甫|尉迟|公羊|澹台|公冶|宗政|濮阳|淳于|单于|太叔|申屠|公孙|仲孙|轩辕|令狐|钟离|宇文|长孙|慕容|鲜于|闾丘|司徒|司空|亓官|司寇|子车|颛孙|端木|巫马|公西|漆雕|乐正|壤驷|公良|拓跋|夹谷|宰父|谷粱|段干|百里|东郭|南门|呼延|归海|羊舌|微生|梁丘|左丘|东门|西门|南宫'\n",
    "regex = f\"(?<![一-龟])(?:{xin1}|{xin2})[\\u4E00-\\u9FA5]{{1,2}}\"\n",
    "# re.findall(r'\\b[\\u4e00-\\u9fa5]{2,3}\\b',s)\n",
    "re.findall(regex, s)\n"
   ]
  },
  {
   "cell_type": "markdown",
   "metadata": {},
   "source": [
    "> pd.Series.str.get_dummies(sep=)  \n",
    "    > 根据分隔符分开，dummy化（去重，有就用1表示，没有就用0表示），并返回df"
   ]
  },
  {
   "cell_type": "code",
   "execution_count": null,
   "metadata": {},
   "outputs": [],
   "source": [
    "pd.Series(['a,a,b', 'cd,a', 'b,cd,cd']).str.get_dummies(',')\n"
   ]
  },
  {
   "cell_type": "markdown",
   "metadata": {},
   "source": [
    "> feather"
   ]
  },
  {
   "cell_type": "code",
   "execution_count": null,
   "metadata": {},
   "outputs": [],
   "source": [
    "\n",
    "df = pd.DataFrame({'a': [1, 2, 3]})\n",
    "df.to_feather('temp.feather')\n"
   ]
  },
  {
   "cell_type": "code",
   "execution_count": null,
   "metadata": {},
   "outputs": [],
   "source": [
    "from pyarrow import feather\n",
    "feather.write_feather(df, 'temp.feather')\n"
   ]
  },
  {
   "cell_type": "markdown",
   "metadata": {},
   "source": [
    "> reindex   \n",
    "> * 重新排序，没有字段添加默认值"
   ]
  },
  {
   "cell_type": "code",
   "execution_count": null,
   "metadata": {},
   "outputs": [],
   "source": [
    "df = pd.DataFrame(np.random.random(size=(3, 3)), columns=list('abc'))\n",
    "df.reindex(list('dcba'), axis=1, fill_value=0)\n"
   ]
  },
  {
   "cell_type": "markdown",
   "metadata": {},
   "source": [
    "> 追加写入excel"
   ]
  },
  {
   "cell_type": "code",
   "execution_count": null,
   "metadata": {},
   "outputs": [],
   "source": [
    "df1 = pd.DataFrame(['1', '2'])\n",
    "for i in range(3):\n",
    "    with pd.ExcelWriter('temp.xlsx', mode='a', engine='openpyxl', if_sheet_exists='replace') as f:\n",
    "        df1.to_excel(f, sheet_name=f'{i}')\n"
   ]
  },
  {
   "cell_type": "markdown",
   "metadata": {},
   "source": [
    "> 修饰器"
   ]
  },
  {
   "cell_type": "code",
   "execution_count": null,
   "metadata": {},
   "outputs": [],
   "source": [
    "import time\n",
    "from functools import wraps\n",
    "\n",
    "\n",
    "def xsq(f):\n",
    "\n",
    "    @wraps(f)\n",
    "    def wrap(*args, **kwargs):\n",
    "        start_t = time.perf_counter()\n",
    "        r = f(*args, **kwargs)\n",
    "        print(f'用时:{(time.perf_counter()-start_t):.2f}秒')\n",
    "        return r\n",
    "    return wrap\n",
    "\n",
    "\n",
    "@xsq\n",
    "def myf(x):\n",
    "    print(x)\n",
    "    time.sleep(1)\n",
    "    return x*3\n",
    "\n",
    "\n",
    "abc = myf(34)\n"
   ]
  },
  {
   "cell_type": "code",
   "execution_count": null,
   "metadata": {},
   "outputs": [],
   "source": [
    "# xw.Range('a1').value=np.random.randint(4,size=(10,10))\n",
    "df = xw.Range('a1').current_region.options('df', index=0,).value\n",
    "df\n",
    "df.groupby('Date', as_index=False).apply(\n",
    "    lambda x: x.agg(lambda x: x.dropna().unique())).droplevel(1)\n",
    "df.groupby('Date', as_index=False).apply(lambda x: x.bfill().iloc[0])\n"
   ]
  },
  {
   "cell_type": "code",
   "execution_count": null,
   "metadata": {},
   "outputs": [],
   "source": [
    "class A():\n",
    "    def __init__(self):\n",
    "        self.name1 = 'A'\n",
    "\n",
    "    def show(self):\n",
    "        print(self.name1)\n",
    "\n",
    "\n",
    "class B(A):\n",
    "    def __init__(self):\n",
    "        super(A).__init__()\n",
    "        self.name1 = 'B'\n",
    "\n",
    "\n",
    "a = A()\n",
    "b = B()\n",
    "b.show()\n",
    "a.show()\n"
   ]
  },
  {
   "cell_type": "code",
   "execution_count": null,
   "metadata": {},
   "outputs": [],
   "source": [
    "from collections import namedtuple\n",
    "\n",
    "Stock = namedtuple('Stock', ['name', 'shares', 'price', 'date', 'time'])\n",
    "\n",
    "# Create a prototype instance\n",
    "stock_prototype = Stock('', 0, 0.0, None, None)\n",
    "\n",
    "# Function to convert a dictionary to a Stock\n",
    "\n",
    "\n",
    "def dict_to_stock(s):\n",
    "    return stock_prototype._replace(**s)\n"
   ]
  },
  {
   "cell_type": "markdown",
   "metadata": {},
   "source": [
    "#### 数据库 sqllite3"
   ]
  },
  {
   "cell_type": "code",
   "execution_count": null,
   "metadata": {},
   "outputs": [],
   "source": [
    "import sqlite3\n",
    "\n",
    "conn = sqlite3.connect('test1.db')\n",
    "print(\"数据库打开成功\")\n",
    "c = conn.cursor()\n",
    "c.execute('''CREATE TABLE COMPANY\n",
    "       (姓名          TEXT     NOT NULL,\n",
    "       学科           TEXT    NOT NULL,\n",
    "       分数            INT     NOT NULL\n",
    "       );''')\n",
    "print(\"数据表创建成功\")\n",
    "conn.commit()\n",
    "conn.close()\n"
   ]
  },
  {
   "cell_type": "code",
   "execution_count": null,
   "metadata": {},
   "outputs": [],
   "source": [
    "import sqlite3\n",
    "\n",
    "conn = sqlite3.connect('test1.db')\n",
    "c = conn.cursor()\n",
    "print(\"数据库打开成功\")\n",
    "\n",
    "c.execute(\"INSERT INTO COMPANY (姓名,学科,分数) \\\n",
    "      VALUES ('张三', '语文', 81)\")\n",
    "c.execute(\"INSERT INTO COMPANY (姓名,学科,分数) \\\n",
    "      VALUES ('张三', '数学', 75)\")\n",
    "c.execute(\"INSERT INTO COMPANY (姓名,学科,分数) \\\n",
    "      VALUES ('李四', '语文', 76)\")\n",
    "c.execute(\"INSERT INTO COMPANY (姓名,学科,分数) \\\n",
    "      VALUES ('李四', '数学', 90)\")\n",
    "c.execute(\"INSERT INTO COMPANY (姓名,学科,分数) \\\n",
    "      VALUES ('王五', '语文', 81)\")\n",
    "c.execute(\"INSERT INTO COMPANY (姓名,学科,分数) \\\n",
    "      VALUES ('王五', '数学', 100)\")\n",
    "\n",
    "\n",
    "conn.commit()\n",
    "print(\"数据插入成功\")\n",
    "conn.close()\n"
   ]
  },
  {
   "cell_type": "code",
   "execution_count": null,
   "metadata": {},
   "outputs": [],
   "source": [
    "import sqlite3\n",
    "\n",
    "conn = sqlite3.connect('test1.db')\n",
    "c = conn.cursor()\n",
    "print(\"数据库打开成功\")\n",
    "\n",
    "cursor = c.execute(\"SELECT *  from COMPANY\")\n",
    "for eh in (cursor):\n",
    "    print(eh, type(eh))\n",
    "\n",
    "conn.close()\n"
   ]
  },
  {
   "cell_type": "markdown",
   "metadata": {},
   "source": [
    "#### 使用mysql"
   ]
  },
  {
   "cell_type": "markdown",
   "metadata": {},
   "source": [
    "> 利用pandas的index 生成不同的数据类型 生成批量写入mysql"
   ]
  },
  {
   "cell_type": "code",
   "execution_count": null,
   "metadata": {},
   "outputs": [],
   "source": [
    "df = pd.DataFrame({'a': [1, 2, 1], 'b': [3, 4., 3], 'c': list('abc')})\n",
    "df['a'] = df.a.astype(int)\n",
    "df\n",
    "df = df.set_index([*df])\n",
    "sqldata = df.index\n",
    "sql = \"insert into mytable ('a','b','c') values \" + ','.join(map(str, sqldata))\n",
    "# mysql批量写入\n",
    "sql\n"
   ]
  },
  {
   "cell_type": "code",
   "execution_count": null,
   "metadata": {},
   "outputs": [],
   "source": [
    "from connmysql import QQ_Sql as Q\n",
    "with Q() as q:\n",
    "    r = q.execute('show tables; ')\n",
    "r\n"
   ]
  },
  {
   "cell_type": "code",
   "execution_count": null,
   "metadata": {},
   "outputs": [],
   "source": [
    "import pandas as pd\n",
    "from sqlalchemy import create_engine\n",
    "from urllib.parse import quote_plus as urlquote  # 为了解决密码含有@字符导致engine无法连接数据库\n",
    "para = dict(\n",
    "    user='Numpy_Pandas_admin',\n",
    "    password=urlquote('Npandas123!@#'),\n",
    "    host='39.101.131.154',\n",
    "    database='Python_Numpy_Pandas_QQ',\n",
    "    charset='utf8', )\n",
    "_db_str = 'mysql+pymysql://{user}:{password}@{host}:3306/{database}?charset={charset}'.format(\n",
    "    **para)\n",
    "conn = create_engine(_db_str)\n",
    "pd.read_sql('select * from ayitemp', con=conn)\n"
   ]
  },
  {
   "cell_type": "markdown",
   "metadata": {},
   "source": [
    "#### 图片播放背景音乐告白"
   ]
  },
  {
   "cell_type": "code",
   "execution_count": null,
   "metadata": {},
   "outputs": [],
   "source": [
    "import random\n",
    "import pygame as py\n",
    "import tkinter as tk\n",
    "from time import time, sleep\n",
    "from tkinter import filedialog\n",
    "from PIL import Image, ImageTk\n",
    "from math import sin, cos, radians\n",
    "from random import choice, uniform, randint\n",
    "\n",
    "\n",
    "class part:\n",
    "    # 为每一个烟花绽放出来的粒子单独构建一个类的对象 ，每个粒子都会有一些重要的属性，决定它的外观（大小、颜色）、移动速度等\n",
    "    def __init__(self, cv, idx, total, explosion_speed, x=0., y=0., vx=0., vy=0., size=2., color='red', lifespan=2, **kwargs):\n",
    "        self.id = idx\n",
    "        # 每个烟花的特定标识符\n",
    "        self.x = x\n",
    "        # 烟花绽放x轴\n",
    "        self.y = y\n",
    "        # 烟花绽放y轴\n",
    "        self.initial_speed = explosion_speed\n",
    "        # 粒子初始速度\n",
    "        self.vx = vx\n",
    "        # 粒子运动x轴速度\n",
    "        self.vy = vy\n",
    "        # 粒子运动y轴速度\n",
    "        self.total = total\n",
    "        # 绽放粒子数\n",
    "        self.age = 0\n",
    "        # 粒子已停留时间\n",
    "        self.color = color\n",
    "        # 粒子颜色\n",
    "        self.cv = cv\n",
    "        # 画布\n",
    "        self.cid = self.cv.create_oval(\n",
    "            x - size, y - size, x + size, y + size, fill=self.color, outline='white', width=0.01)\n",
    "        # 指定一个限定矩形（Tkinter 会自动在这个矩形内绘制一个椭圆）\n",
    "        self.lifespan = lifespan\n",
    "        # 粒子在画布上停留的时间\n",
    "\n",
    "    def update(self, dt):\n",
    "        self.age += dt\n",
    "        # 更新粒子停留时间\n",
    "        if self.alive() and self.expand():\n",
    "            # 如果粒子既存活又处于扩张阶段\n",
    "            move_x = cos(radians(self.id*360/self.total))*self.initial_speed\n",
    "            # 粒子x轴继续膨胀\n",
    "            move_y = sin(radians(self.id*360/self.total))*self.initial_speed\n",
    "            # 粒子y轴继续膨胀\n",
    "            self.cv.move(self.cid, move_x, move_y)\n",
    "            # 根据id把画布上的粒子移动x和y个距离\n",
    "            self.vx = move_x/(float(dt)*1000)\n",
    "            # 粒子x轴的速度\n",
    "\n",
    "        elif self.alive():\n",
    "            columnFont = ('华文行楷', 14)\n",
    "            # 如果粒子仅存活不扩张（只是停留时间足够，说明膨胀到最大了），则自由坠落\n",
    "            self.cv.create_text(250, 100, text='喜', tag=\"write_tag\", fill=choice(\n",
    "                colors), font=columnFont)  # 字体\n",
    "            self.cv.create_text(\n",
    "                300, 100,  text='欢', tag=\"write_tag\", fill=choice(colors), font=columnFont)\n",
    "            self.cv.create_text(350, 100, text='你', tag=\"write_tag\",\n",
    "                                fill=choice(colors), font=columnFont)\n",
    "            self.cv.create_text(\n",
    "                400, 100,  text='吖', tag=\"write_tag\", fill=choice(colors), font=columnFont)\n",
    "            # 删除文字标签\n",
    "            move_x = cos(radians(self.id*360/self.total))\n",
    "            # x轴的移动位移\n",
    "            # we technically don't need to update x, y because move will do the job\n",
    "            self.cv.move(self.cid, self.vx + move_x, self.vy+GRAVITY*dt)\n",
    "            self.vy += GRAVITY*dt\n",
    "            # 更新y轴\n",
    "\n",
    "        elif self.cid is not None:\n",
    "            # 如果粒子生命周期已过，则将其移除\n",
    "            cv.delete(self.cid)\n",
    "            # 在画布上移除该粒子对象\n",
    "            self.cv.delete(\"write_tag\")\n",
    "            # 同时移除字体\n",
    "            self.cid = None\n",
    "\n",
    "    def expand(self):\n",
    "        # 定义膨胀效果时间帧\n",
    "        return self.age <= 1.2\n",
    "        # 判断膨胀时间是否小于1.2秒\n",
    "\n",
    "    def alive(self):\n",
    "        # 判断粒子是否仍在生命周期内\n",
    "        return self.age <= self.lifespan\n",
    "        # 判断已停留时间是否小于应该停留时间\n",
    "\n",
    "\n",
    "'''\n",
    "Firework simulation loop:\n",
    "Recursively call to repeatedly emit new fireworks on canvas\n",
    "a list of list (list of stars, each of which is a list of particles)\n",
    "is created and drawn on canvas at every call, \n",
    "via update protocol inside each 'part' object \n",
    "'''\n",
    "\n",
    "\n",
    "def randomcolor():\n",
    "    # 生成随机颜色\n",
    "    colArr = ['1', '2', '3', '4', '5', '6', '7',\n",
    "              '8', '9', 'A', 'B', 'C', 'D', 'E', 'F']\n",
    "    color = \"\"\n",
    "    for i in range(6):\n",
    "        color += colArr[random.randint(0, 14)]\n",
    "    return \"#\"+color\n",
    "\n",
    "\n",
    "GRAVITY = 0.06\n",
    "# 重力变量\n",
    "colors = ['red', 'blue', 'yellow', 'white', 'green', 'orange',\n",
    "          'purple', 'seagreen', 'indigo', 'cornflowerblue', 'pink']\n",
    "# 颜色列表\n",
    "\n",
    "\n",
    "def simulate(cv):\n",
    "\n",
    "    t = time()\n",
    "    # 返回自1970年后经过的浮点秒数，精确到小数点后7位\n",
    "    explode_points = []\n",
    "    # 爆炸点列表，烟花列表\n",
    "    wait_time = randint(10, 100)\n",
    "    # 等待时间为10到100之间整数\n",
    "    numb_explode = randint(8, 20)\n",
    "    # 爆炸烟花个数时6到10之间的随机整数\n",
    "    # create list of list of all particles in all simultaneous explosion\n",
    "    for point in range(numb_explode):\n",
    "        # 为所有模拟烟花绽放的全部粒子创建一列列表\n",
    "        if point <= 4:\n",
    "            objects = []\n",
    "            # 每个点的爆炸粒子列表粒子列表\n",
    "            x_cordi = 250 + point*50\n",
    "            # 每个爆炸点的x轴\n",
    "            y_cordi = 100\n",
    "            # 每个爆炸点的y轴\n",
    "            speed = uniform(0.5, 1.5)\n",
    "            # 每个爆炸点的速度\n",
    "            size = uniform(0.5, 3)\n",
    "            # 每个爆炸点的大小\n",
    "            color = choice(colors)\n",
    "            # 每个爆炸点的颜色\n",
    "            explosion_speed = uniform(0.6, 3)\n",
    "            # 爆炸的绽放速度\n",
    "            total_particles = randint(10, 60)\n",
    "            # 烟花的总粒子数\n",
    "            for i in range(1, total_particles):\n",
    "                # 同一个烟花爆炸出来的粒子大小、速度、坐标都是相同的\n",
    "                r = part(cv, idx=i, total=total_particles, explosion_speed=explosion_speed, x=x_cordi,\n",
    "                         y=y_cordi, vx=speed, vy=speed, color=color, size=size, lifespan=uniform(0.6, 1.75))\n",
    "                # 把上述参数代入part函数，但是每个粒子的生存时间是自己独立的\n",
    "                objects.append(r)\n",
    "                # 把r添加进粒子列表\n",
    "            explode_points.append(objects)\n",
    "            # 把粒子列表添加进烟花列表\n",
    "        else:\n",
    "            objects = []\n",
    "            # 每个点的爆炸粒子列表粒子列表\n",
    "            x_cordi = randint(50, 550)\n",
    "            # 每个爆炸点的x轴\n",
    "            y_cordi = randint(50, 150)\n",
    "            # 每个爆炸点的y轴\n",
    "            speed = uniform(0.5, 1.5)\n",
    "            # 每个爆炸点的速度\n",
    "            size = uniform(0.5, 3)\n",
    "            # 每个爆炸点的大小\n",
    "            color = choice(colors)\n",
    "            # 每个爆炸点的颜色\n",
    "            explosion_speed = uniform(0.3, 2)\n",
    "            # 爆炸的绽放速度\n",
    "            total_particles = randint(10, 50)\n",
    "            # 烟花的总粒子数\n",
    "            for i in range(1, total_particles):\n",
    "                # 同一个烟花爆炸出来的粒子大小、速度、坐标都是相同的\n",
    "                r = part(cv, idx=i, total=total_particles, explosion_speed=explosion_speed, x=x_cordi,\n",
    "                         y=y_cordi, vx=speed, vy=speed, color=color, size=size, lifespan=uniform(0.6, 1.75))\n",
    "                # 把上述参数代入part函数，但是每个粒子的生存时间是自己独立的\n",
    "                objects.append(r)\n",
    "                # 把r添加进粒子列表\n",
    "            explode_points.append(objects)\n",
    "            # 把粒子列表添加进烟花列表\n",
    "\n",
    "    total_time = .0\n",
    "    # 初始化总时间\n",
    "    # keeps undate within a timeframe of 1.8 second\n",
    "    while total_time < 2:\n",
    "        # 当总时间小于1.8秒时运行该循环\n",
    "        sleep(0.03)\n",
    "        # 让画面暂停0.01秒\n",
    "        tnew = time()\n",
    "        # 刷新时间\n",
    "        t, dt = tnew, tnew - t\n",
    "        # 时间等于新时间，和上次时间间隔为tnew-t\n",
    "        for point in explode_points:\n",
    "            # 遍历烟花列表\n",
    "            for item in point:\n",
    "                # 遍历烟花里的粒子列表\n",
    "                item.update(dt)\n",
    "                # 粒子更新时间\n",
    "        cv.update()\n",
    "        # 刷新画布\n",
    "        total_time += dt\n",
    "        # 为while循环增加时间\n",
    "\n",
    "    root.after(wait_time, simulate, cv)\n",
    "    # 将组件置于其他组件之后，放在最顶层，覆盖下面的，递归调用自己，形成新一轮的爆炸\n",
    "\n",
    "\n",
    "def close(*ignore):\n",
    "    # 打开模拟循环并关闭窗口\n",
    "    \"\"\"Stops simulation loop and closes the window.\"\"\"\n",
    "    global root\n",
    "    root.quit()\n",
    "\n",
    "\n",
    "if __name__ == '__main__':\n",
    "    root = tk.Tk()\n",
    "    root.title('漫天烟花——祝大家—有情人终成眷属')  # 设置窗体的标题栏\n",
    "    cv = tk.Canvas(root, height=600, width=600)\n",
    "    # 绘制一个高600，宽600的画布\n",
    "    bgpath = filedialog.askopenfilename(title='请选择背景图片')\n",
    "    # 选择背景图片\n",
    "    image = Image.open(bgpath)\n",
    "    # 打开背景图片\n",
    "    image = image.resize((600, 600), Image.ANTIALIAS)\n",
    "    # 把背景图片调整成窗口大小\n",
    "    photo = ImageTk.PhotoImage(image)\n",
    "    cv.create_image(0, 0, image=photo, anchor='nw')\n",
    "    # 在画布上绘制加载的背景图片\n",
    "    bgmusic = filedialog.askopenfilename(title='请选择背景音乐')\n",
    "    py.mixer.init()\n",
    "    # 初始化\n",
    "    py.mixer.music.load(bgmusic)\n",
    "    # 文件加载\n",
    "    py.mixer.music.play(-1, 0, fade_ms=50)\n",
    "    # 播放  第一个是播放值 -1代表循环播放， 第二个参数代表开始播放的时间\n",
    "    py.mixer.music.pause()\n",
    "    # 暂停\n",
    "    py.mixer.music.unpause()\n",
    "    # 取消暂停\n",
    "    cv.pack()\n",
    "    # 把cv添加进去\n",
    "    root.protocol(\"WM_DELETE_WINDOW\", close)\n",
    "    root.after(200, simulate, cv)\n",
    "    # 在0.1秒后再调用stimulate函数，生成一轮烟花绽放效果\n",
    "    root.mainloop()\n",
    "    # 执行root，生成窗口\n"
   ]
  },
  {
   "cell_type": "markdown",
   "metadata": {},
   "source": [
    "#### excel查找图片\n",
    "根据图片的左边单元格的值作为key进行匹配\n",
    "> 用法:\n",
    ">   1. 打开要处理的excel表。\n",
    ">   2. 图片所在的表赋值给sht_source\n",
    ">   3. 目标查找的表赋值给sht_sht_target，结果以a列进行匹配"
   ]
  },
  {
   "cell_type": "code",
   "execution_count": null,
   "metadata": {},
   "outputs": [],
   "source": [
    "import xlwings as xw\n",
    "\n",
    "\n",
    "def get_pic(sht_source):\n",
    "    '''获取源表所有图片'''\n",
    "    sh = sht_source.shapes\n",
    "    sh = [x for x in sh if x.type == \"picture\"]  # 仅选取图片类型\n",
    "    shd = {sht_source.range(x.api.TopLeftCell.Row, x.api.TopLeftCell.Column - 1\n",
    "                            ).value: x for x in sh}  # 转字典并且用前一行的值作为key\n",
    "    return shd\n",
    "\n",
    "\n",
    "def put_pic(sht_target, shd):\n",
    "    '''写入图片'''\n",
    "    sht_target.activate()\n",
    "    for eh in sht_target.used_range.columns[0]:\n",
    "        if shd.get(eh.value):\n",
    "            shd[eh.value].api.Copy()\n",
    "            eh.offset(0, 1).select()\n",
    "            sht_target.api.Paste()\n",
    "\n",
    "\n",
    "if __name__ == '__main__':\n",
    "    wb = xw.books.active\n",
    "    sht_source = wb.sheets[1]  # 图片所在表\n",
    "    sht_target = wb.sheets[0]  # 要写入的表，以a列查找，图片放到a列是右边一列\n",
    "    put_pic(sht_target, get_pic(sht_source))\n"
   ]
  },
  {
   "cell_type": "markdown",
   "metadata": {},
   "source": [
    "#### office文件转pdf  \n",
    "> excel仅仅转第一个sheet,其他office也是转单个文件"
   ]
  },
  {
   "cell_type": "code",
   "execution_count": null,
   "metadata": {},
   "outputs": [],
   "source": [
    "# -*- coding:utf-8 -*-\n",
    "import os\n",
    "from win32com.client import Dispatch, constants, gencache, DispatchEx\n",
    "\n",
    "\n",
    "class PDFConverter:\n",
    "    def __init__(self, pathname, export='.'):\n",
    "        self._handle_postfix = ['doc', 'docx', 'ppt', 'pptx', 'xls', 'xlsx']\n",
    "        self._filename_list = []\n",
    "        self._export_folder = os.path.join(os.path.abspath('.'), 'pdfconver')\n",
    "        if not os.path.exists(self._export_folder):\n",
    "            os.mkdir(self._export_folder)\n",
    "        self._enumerate_filename(pathname)\n",
    "\n",
    "    def _enumerate_filename(self, pathname):\n",
    "        \"\"\"\n",
    "        读取所有文件名\n",
    "        \"\"\"\n",
    "        full_pathname = os.path.abspath(pathname)\n",
    "        if os.path.isfile(full_pathname):\n",
    "            if self._is_legal_postfix(full_pathname):\n",
    "                self._filename_list.append(full_pathname)\n",
    "            else:\n",
    "                raise TypeError(\n",
    "                    f\"文件 {pathname} 后缀名不合法！仅支持如下文件类型：{'、'.join(self._handle_postfix)}。\")\n",
    "\n",
    "        elif os.path.isdir(full_pathname):\n",
    "            for relpath, _, files in os.walk(full_pathname):\n",
    "                for name in files:\n",
    "                    filename = os.path.join(full_pathname, relpath, name)\n",
    "                    if self._is_legal_postfix(filename):\n",
    "                        self._filename_list.append(os.path.join(filename))\n",
    "        else:\n",
    "            raise TypeError(f'文件/文件夹 {pathname} 不存在或不合法！')\n",
    "\n",
    "    def _is_legal_postfix(self, filename):\n",
    "        return filename.split('.')[-1].lower() in self._handle_postfix and not os.path.basename(filename).startswith('~')\n",
    "\n",
    "    def run_conver(self):\n",
    "        '''\n",
    "        进行批量处理，根据后缀名调用函数执行转换\n",
    "        '''\n",
    "        print('需要转换的文件数：', len(self._filename_list))\n",
    "        for filename in self._filename_list:\n",
    "            postfix = filename.split('.')[-1].lower()\n",
    "            funcCall = getattr(self, postfix)\n",
    "            print('原文件：', filename)\n",
    "            funcCall(filename)\n",
    "        print('转换完成！')\n",
    "\n",
    "    def doc(self, filename):\n",
    "        '''\n",
    "        doc 和 docx 文件转换\n",
    "        '''\n",
    "        name = os.path.basename(filename).split('.')[0] + '.pdf'\n",
    "        exportfile = os.path.join(self._export_folder, name)\n",
    "        print('保存 PDF 文件：', exportfile)\n",
    "        gencache.EnsureModule(\n",
    "            '{00020905-0000-0000-C000-000000000046}', 0, 8, 4)\n",
    "        w = Dispatch(\"Word.Application\")\n",
    "        doc = w.Documents.Open(filename)\n",
    "        doc.ExportAsFixedFormat(exportfile, constants.wdExportFormatPDF,\n",
    "                                Item=constants.wdExportDocumentWithMarkup,\n",
    "                                CreateBookmarks=constants.wdExportCreateHeadingBookmarks)\n",
    "\n",
    "        w.Quit(constants.wdDoNotSaveChanges)\n",
    "\n",
    "    def docx(self, filename):\n",
    "        self.doc(filename)\n",
    "\n",
    "    def xls(self, filename):\n",
    "        '''\n",
    "        xls 和 xlsx 文件转换\n",
    "        '''\n",
    "        name = os.path.basename(filename).split('.')[0] + '.pdf'\n",
    "        exportfile = os.path.join(self._export_folder, name)\n",
    "        xlApp = DispatchEx(\"Excel.Application\")\n",
    "        xlApp.Visible = False\n",
    "        xlApp.DisplayAlerts = 0\n",
    "        books = xlApp.Workbooks.Open(filename, False)\n",
    "        books.ExportAsFixedFormat(0, exportfile)\n",
    "        books.Close(False)\n",
    "        print('保存 PDF 文件：', exportfile)\n",
    "        xlApp.Quit()\n",
    "\n",
    "    def xlsx(self, filename):\n",
    "        self.xls(filename)\n",
    "\n",
    "    def ppt(self, filename):\n",
    "        '''\n",
    "        ppt 和 pptx 文件转换\n",
    "        '''\n",
    "        name = os.path.basename(filename).split('.')[0] + '.pdf'\n",
    "        exportfile = os.path.join(self._export_folder, name)\n",
    "        gencache.EnsureModule(\n",
    "            '{00020905-0000-0000-C000-000000000046}', 0, 8, 4)\n",
    "        p = Dispatch(\"PowerPoint.Application\")\n",
    "        ppt = p.Presentations.Open(filename, False, False, False)\n",
    "        ppt.ExportAsFixedFormat(exportfile, 2, PrintRange=None)\n",
    "        print('保存 PDF 文件：', exportfile)\n",
    "        p.Quit()\n",
    "\n",
    "    def pptx(self, filename):\n",
    "        self.ppt(filename)\n",
    "\n",
    "\n",
    "if __name__ == \"__main__\":\n",
    "\n",
    "    # 支持文件夹批量导入\n",
    "    # folder = 'tmp'\n",
    "    # pathname = os.path.join(os.path.abspath('.'), folder)\n",
    "\n",
    "    # 也支持单个文件的转换\n",
    "    pathname = 'temp.docx'\n",
    "\n",
    "    pdfConverter = PDFConverter(pathname)\n",
    "    pdfConverter.run_conver()\n"
   ]
  },
  {
   "cell_type": "markdown",
   "metadata": {},
   "source": [
    "> excel按照sheet名称转化为pdf"
   ]
  },
  {
   "cell_type": "code",
   "execution_count": null,
   "metadata": {},
   "outputs": [],
   "source": [
    "# -*- coding:utf-8 -*-\n",
    "\n",
    "import os\n",
    "from win32com.client import Dispatch, constants, gencache, DispatchEx\n",
    "import xlrd\n",
    "import openpyxl\n",
    "\n",
    "\n",
    "class PDFConverter:\n",
    "    def __init__(self, pathname, sheetnum, export='.'):\n",
    "        self.sheetnum = sheetnum\n",
    "        self._handle_postfix = ['xls', 'xlsx']\n",
    "        self._filename_list = []\n",
    "        self._export_folder = os.path.join(os.path.abspath('.'), 'pdfconver')\n",
    "        if not os.path.exists(self._export_folder):\n",
    "            os.mkdir(self._export_folder)\n",
    "        self._enumerate_filename(pathname)\n",
    "\n",
    "    def _enumerate_filename(self, pathname):\n",
    "        '''\n",
    "        读取所有文件名\n",
    "        '''\n",
    "        full_pathname = os.path.abspath(pathname)\n",
    "        if os.path.isfile(full_pathname):\n",
    "            if self._is_legal_postfix(full_pathname):\n",
    "                self._filename_list.append(full_pathname)\n",
    "            else:\n",
    "                raise TypeError(\n",
    "                    f\"文件 {pathname} 后缀名不合法！仅支持如下文件类型：{'、'.join(self._handle_postfix)}。\")\n",
    "\n",
    "        elif os.path.isdir(full_pathname):\n",
    "            for relpath, _, files in os.walk(full_pathname):\n",
    "                for name in files:\n",
    "                    filename = os.path.join(full_pathname, relpath, name)\n",
    "                    if self._is_legal_postfix(filename):\n",
    "                        self._filename_list.append(os.path.join(filename))\n",
    "        else:\n",
    "            raise TypeError(f'文件/文件夹 {pathname} 不存在或不合法！')\n",
    "\n",
    "    def _is_legal_postfix(self, filename):\n",
    "        return filename.split('.')[-1].lower() in self._handle_postfix and not os.path.basename(filename).startswith(\n",
    "            '~')\n",
    "\n",
    "    def run_conver(self):\n",
    "        '''\n",
    "        进行批量处理，根据后缀名调用函数执行转换\n",
    "        '''\n",
    "        print('需要转换的文件数：', len(self._filename_list))\n",
    "        for filename in self._filename_list:\n",
    "            postfix = filename.split('.')[-1].lower()\n",
    "            funcCall = getattr(self, postfix)\n",
    "            print('原文件：', filename)\n",
    "            funcCall(filename)\n",
    "        print('转换完成！')\n",
    "\n",
    "    def xls(self, filename):\n",
    "        '''\n",
    "        xls 和 xlsx 文件转换\n",
    "        '''\n",
    "        xlApp = DispatchEx(\"Excel.Application\")\n",
    "        xlApp.Visible = False\n",
    "        xlApp.DisplayAlerts = 0\n",
    "        books = xlApp.Workbooks.Open(filename, False)\n",
    "        # 循环保存每一个sheet\n",
    "        for i in range(1, self.sheetnum+1):\n",
    "            sheetName = books.Sheets(i).Name\n",
    "            xlSheet = books.Worksheets(sheetName)\n",
    "            name = f'{sheetName}.pdf'\n",
    "            exportfile = os.path.join(self._export_folder, name)\n",
    "            xlSheet.ExportAsFixedFormat(0, exportfile)\n",
    "            print('保存 PDF 文件：', exportfile)\n",
    "        books.Close(False)\n",
    "        xlApp.Quit()\n",
    "\n",
    "    def xlsx(self, filename):\n",
    "        self.xls(filename)\n",
    "\n",
    "\n",
    "if __name__ == \"__main__\":\n",
    "    # 支持单个文件的转换\n",
    "    pathname = 'temp.xls'\n",
    "    # 获取到文件的sheet数\n",
    "\n",
    "    if pathname.split('.')[-1] == 'xls':\n",
    "        sheetnum = xlrd.open_workbook(pathname).sheets().__len__()\n",
    "    else:\n",
    "        sheetnum = openpyxl.load_workbook(pathname).sheetnames.__len__()\n",
    "    pdfConverter = PDFConverter(pathname, sheetnum)\n",
    "    pdfConverter.run_conver()\n"
   ]
  },
  {
   "cell_type": "markdown",
   "metadata": {},
   "source": [
    "#### 临时练习"
   ]
  },
  {
   "cell_type": "code",
   "execution_count": null,
   "metadata": {},
   "outputs": [],
   "source": [
    "import matplotlib.pyplot as plt\n",
    "import numpy as np\n",
    "\n",
    "x = np.array([\"Runoob-1\", \"Runoob-2\", \"Runoob-3\", \"C-RUNOOB\"])\n",
    "y = np.random.randint(10, size=(4,))\n",
    "\n",
    "plt.bar(x, y,  color=[\"#4CAF50\", \"red\", \"hotpink\", \"#556B2F\"])\n",
    "plt.show()\n"
   ]
  },
  {
   "cell_type": "code",
   "execution_count": null,
   "metadata": {},
   "outputs": [],
   "source": [
    "import pandas as pd\n",
    "import xlwings as xw\n",
    "import numpy as np\n",
    "from IPython.core.interactiveshell import InteractiveShell\n",
    "InteractiveShell.ast_node_interactivity = 'all'\n",
    "mysize = 20\n",
    "np.random.seed(1)\n",
    "x = np.arange(mysize)\n",
    "y = np.random.randint(1, 10, size=(mysize,))\n",
    "mycolor = [\"red\", \"yellow\",  \"green\", \"blue\"]\n",
    "mycolor = (pd.cut(y, len(mycolor), labels=mycolor))\n",
    "mycolor.value_counts()\n",
    "plt.bar(x, y,  color=mycolor)\n",
    "plt.show()\n",
    "# mycolor\n",
    "\n"
   ]
  },
  {
   "cell_type": "code",
   "execution_count": null,
   "metadata": {},
   "outputs": [],
   "source": [
    "import tushare as ts\n",
    "import pandas as pd\n",
    "from concurrent.futures import ThreadPoolExecutor\n",
    "\n",
    "\n",
    "def getdata(code):\n",
    "    # return ts.get_hist_data(code, start='2022-07-01', end='2022-12-31', ktype=\"d\",).assign(code=code)\n",
    "    rs = ts.get_hist_data(code, start='2022-07-01',\n",
    "                          end='2022-12-31', ktype=\"d\",)\n",
    "    return pd.DataFrame() if rs is None else rs[['close']].set_axis([code], axis=1)\n",
    "\n",
    "\n",
    "codelist = ['600000', '600008', '833943',\n",
    "            '000112', '430090', '430418']\n",
    "with ThreadPoolExecutor(max_workers=5) as executor:\n",
    "    alldata = executor.map(getdata, codelist)\n",
    "result = pd.concat(list(alldata), axis=1)\n",
    "result\n"
   ]
  },
  {
   "cell_type": "code",
   "execution_count": null,
   "metadata": {},
   "outputs": [],
   "source": [
    "import pandas as pd\n",
    "import numpy as np\n",
    "\n",
    "\n",
    "filename = '济南市.xlsx'\n",
    "bins = [0, 20, 50, 80, 100, 130, 150, np.inf]\n",
    "labels = '''20元以下\n",
    "20-50元\n",
    "50-80元\n",
    "80-100元\n",
    "100-130元\n",
    "130-150元\n",
    "150元以上\n",
    "'''.splitlines()\n",
    "\n",
    "with pd.ExcelWriter(filename, mode='a', engine='openpyxl', if_sheet_exists='replace') as f:\n",
    "    df = pd.read_excel(f)\n",
    "    # dfr=df.groupby(pd.cut(df.价格,bins=bins,labels=labels))['店铺名称'].count().to_frame('店铺数量')\n",
    "    # dfr.to_excel(f,sheet_name='结果')\n"
   ]
  },
  {
   "cell_type": "code",
   "execution_count": null,
   "metadata": {},
   "outputs": [],
   "source": [
    "df = xw.Range('a1').current_region.options(\n",
    "    'df', index=False, numbers=int).value\n",
    "df\n",
    "df.nlargest(5, 'b', 'all')\n"
   ]
  },
  {
   "cell_type": "code",
   "execution_count": null,
   "metadata": {},
   "outputs": [],
   "source": [
    "from itertools import zip_longest\n",
    "\n",
    "\n",
    "def f(se):\n",
    "    return list(zip_longest(*se))\n",
    "\n",
    "\n",
    "df = pd.read_json('info.json')\n",
    "col = df.columns[:3].to_list()\n",
    "\n",
    "(df.replace({'': pd.NA})\n",
    "    .groupby(col)\n",
    "    .agg(lambda x: x.dropna().values)\n",
    "    .apply(f, axis=1)\n",
    "    .explode().apply(pd.Series)\n",
    "    .set_axis(df.columns[3:], axis=1)\n",
    "    .set_index('high_community', append=True))\n"
   ]
  },
  {
   "cell_type": "code",
   "execution_count": 7,
   "metadata": {},
   "outputs": [],
   "source": [
    "import pandas as pd\n",
    "from itertools import zip_longest\n",
    "from chinese_province_city_area_mapper.infrastructure import SuperMap\n",
    "from chinese_province_city_area_mapper import drawers\n",
    "\n",
    "\n",
    "def getdata(filename):\n",
    "    df = pd.read_json(filename)\n",
    "    col = df.columns[:3].to_list()\n",
    "    return (df.replace({'': pd.NA})\n",
    "            .groupby(col)\n",
    "            .agg(lambda x: x.dropna().values)\n",
    "            .apply(lambda x: list(zip_longest(*x)), axis=1)\n",
    "            .explode().apply(pd.Series)\n",
    "            .set_axis(df.columns[3:], axis=1)\n",
    "            )\n",
    "\n",
    "\n",
    "df = getdata('info.json')\n",
    "df = df.reset_index().iloc[:, :3].set_axis('省 市 区'.split(), axis=1)\n",
    "df[\"经纬度\"] = df.apply(\n",
    "    lambda x: SuperMap.lat_lon_mapper.get(\",\".join(x)), axis=1)\n",
    "drawers.draw_locations(df, \"df.html\")\n"
   ]
  },
  {
   "cell_type": "code",
   "execution_count": null,
   "metadata": {},
   "outputs": [],
   "source": [
    "from docxtpl import DocxTemplate\n",
    "template = DocxTemplate('jinjatemp.docx')\n",
    "data = {\"A\": \"192.168.1.11\", \"B\": ['192.168.1.1', '192.168.1.2']}\n",
    "template.render(data)\n",
    "template.save('test.docx')\n"
   ]
  },
  {
   "cell_type": "code",
   "execution_count": null,
   "metadata": {},
   "outputs": [],
   "source": [
    "'''右键添加菜单'''\n",
    "import win32api\n",
    "import win32con\n",
    "\n",
    "key = win32api.RegOpenKey(win32con.HKEY_LOCAL_MACHINE,\n",
    "                          r\"SOFTWARE\\Classes\\*\\shell\")\n",
    "\n",
    "newKey = win32api.RegCreateKey(key, \"YNote\")\n",
    "\n",
    "sub_key = win32api.RegOpenKey(\n",
    "    win32con.HKEY_LOCAL_MACHINE, r\"SOFTWARE\\Classes\\*\\shell\\YNote\")\n",
    "\n",
    "newsubKey = win32api.RegCreateKey(sub_key, \"command\")\n",
    "\n",
    "win32api.RegSetValue(newsubKey, win32con.REG_SZ,\n",
    "                     \"\\\"C:\\Program Files (x86)\\Youdao\\YoudaoNote\\YoudaoNote.exe\\\" \\\"%1\\\"\")\n"
   ]
  },
  {
   "cell_type": "code",
   "execution_count": null,
   "metadata": {},
   "outputs": [],
   "source": [
    "from urllib.parse import urlencode\n",
    "alist = [{'a': 'aaa', 'b': 'bbb', 'c': 1.25}]\n",
    "next(map(urlencode, alist)).replace('&', ';')\n"
   ]
  },
  {
   "cell_type": "code",
   "execution_count": null,
   "metadata": {},
   "outputs": [],
   "source": [
    "np.tril(np.arange(8))\n",
    "np.tile(np.arange(9).reshape(3, 3), (2, 2))\n"
   ]
  },
  {
   "cell_type": "code",
   "execution_count": null,
   "metadata": {},
   "outputs": [],
   "source": [
    "n = 10\n",
    "[bin(i)[2:].zfill(n.bit_length()) for i in range(n)]\n",
    "[f'{i:0{n.bit_length()}b}' for i in range(n)]\n"
   ]
  },
  {
   "cell_type": "code",
   "execution_count": null,
   "metadata": {},
   "outputs": [],
   "source": [
    "import json\n",
    "import pandas as pd\n",
    "import xlwings as xw\n",
    "import numpy as np\n",
    "from IPython.core.interactiveshell import InteractiveShell\n",
    "InteractiveShell.ast_node_interactivity = 'all'\n",
    "\n",
    "s = '2022-09-13T09:09:19+08:00'\n",
    "pd.to_datetime(s).tz_localize(None)\n"
   ]
  },
  {
   "cell_type": "code",
   "execution_count": null,
   "metadata": {},
   "outputs": [],
   "source": [
    "from pandas.tseries.offsets import DateOffset\n",
    "df = xw.Range('a1').current_region.options('df', index=False).value\n",
    "df['date'] = pd.to_datetime(df['date'].astype(int).astype(str))\n",
    "df['ndate'] = df['date'] + DateOffset(months=1)\n",
    "df['max'] = df.resample('Q', on='ndate')['value'].transform('max')\n",
    "df[df.ndate.dt.quarter == 1]\n"
   ]
  },
  {
   "cell_type": "code",
   "execution_count": null,
   "metadata": {},
   "outputs": [],
   "source": [
    "path = r'D:\\百度云同步盘\\工作\\2021\\酬金\\isee系统合同号级清单'\n",
    "filename = '2021{:02}.xls'\n",
    "filename = os.path.join(path, filename)\n",
    "alist = []\n",
    "for i in range(1, 11):\n",
    "    ehf = filename.format(i)\n",
    "    alist.append(pd.read_excel(ehf, header=2).assign(月份=i))\n",
    "dfall = pd.concat(alist)\n",
    "dfall\n"
   ]
  },
  {
   "cell_type": "code",
   "execution_count": null,
   "metadata": {},
   "outputs": [],
   "source": [
    "df = xw.Range('a1').current_region.options(\n",
    "    'df', index=False, numbers=int).value\n",
    "sp_p = 2 # 分割的列\n",
    "col_exp = df.columns[sp_p:]\n",
    "n = len(col_exp)\n",
    "df1 = (df.groupby(df.columns[:sp_p].to_list(), sort=False)\n",
    "       .apply(lambda x: x[col_exp].values.ravel())\n",
    "       .apply(pd.Series))\n",
    "df1.columns = df1.columns.map(\n",
    "    lambda x: np.choose(x % n, col_exp) + str(x//n+1))\n",
    "\n"
   ]
  },
  {
   "cell_type": "code",
   "execution_count": null,
   "metadata": {},
   "outputs": [],
   "source": [
    "df = xw.Range('a1').current_region.options(\n",
    "    'df', index=False, numbers=int).value\n",
    "\n",
    "df\n",
    "df.apply(lambda x:x\n",
    "            .set_axis(x.str.extract(r'(\\D+)')[0])\n",
    "            .dropna()\n",
    "            .reindex(df.columns,)\n",
    "         , axis=1)\n"
   ]
  },
  {
   "cell_type": "code",
   "execution_count": null,
   "metadata": {},
   "outputs": [],
   "source": [
    "import pandas as pd\n",
    "import xlwings as xw\n",
    "import numpy as np\n",
    "from IPython.core.interactiveshell import InteractiveShell\n",
    "InteractiveShell.ast_node_interactivity = 'all'\n",
    "\n",
    "from itertools import accumulate\n",
    "list(accumulate(pd.Series([100,10,1]),func=lambda x,y:np.mean([x,y])))\n"
   ]
  }
 ],
 "metadata": {
  "kernelspec": {
   "display_name": "Python 3.8.13 ('base')",
   "language": "python",
   "name": "python3"
  },
  "language_info": {
   "codemirror_mode": {
    "name": "ipython",
    "version": 3
   },
   "file_extension": ".py",
   "mimetype": "text/x-python",
   "name": "python",
   "nbconvert_exporter": "python",
   "pygments_lexer": "ipython3",
   "version": "3.8.13"
  },
  "orig_nbformat": 4,
  "vscode": {
   "interpreter": {
    "hash": "b09ec625f77bf4fd762565a912b97636504ad6ec901eb2d0f4cf5a7de23e1ee5"
   }
  }
 },
 "nbformat": 4,
 "nbformat_minor": 2
}
